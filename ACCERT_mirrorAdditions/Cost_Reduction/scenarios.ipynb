{
 "cells": [
  {
   "cell_type": "markdown",
   "id": "ee4fa393-2ded-480c-bbf0-547d0cc0ddac",
   "metadata": {},
   "source": [
    "<center><table>\n",
    "    <tr>\n",
    "        <th><img src=\"./INL1.png\",align=\"middle\",height=\"10000\"/></th>\n",
    "        <th><img src=\"./MIT1.png\",align=\"middle\",height=\"10\"\\></th>\n",
    "        <th><img src=\"./ANL.png\",align=\"middle\",height=\"10\"/></th>\n",
    "    </tr>\n",
    "</table>\n",
    "</center>"
   ]
  },
  {
   "attachments": {},
   "cell_type": "markdown",
   "id": "40096a23-ff7b-4541-b710-9f0a9f9a595d",
   "metadata": {},
   "source": [
    "# <center>Cost Reduction Framework for Nuclear Reactor Power Plants</center>\n"
   ]
  },
  {
   "cell_type": "markdown",
   "id": "f2256ae0-712f-4811-99d9-d37188782036",
   "metadata": {},
   "source": [
    "###  Importing the libraries"
   ]
  },
  {
   "cell_type": "code",
   "execution_count": 1,
   "id": "12fb6329-dc95-493f-ba1d-86235e71b512",
   "metadata": {},
   "outputs": [],
   "source": [
    "import pandas as pd\n",
    "import numpy as np\n",
    "\n",
    "import warnings\n",
    "warnings.simplefilter(action='ignore', category=FutureWarning)\n",
    "\n",
    "pd.set_option('display.max_rows', None)"
   ]
  },
  {
   "cell_type": "code",
   "execution_count": 2,
   "id": "7b9a01a8",
   "metadata": {},
   "outputs": [],
   "source": [
    "# Just running the other jupyter notebook to bring all the functions from there\n",
    "%run CostReduction_exploration_mode.ipynb"
   ]
  },
  {
   "cell_type": "code",
   "execution_count": 3,
   "id": "c31cae49",
   "metadata": {},
   "outputs": [],
   "source": [
    "def calculate_final_result_avg(reactor_type, f_22, f_2321, land_cost_per_acre_0, RB_grade_0, BOP_grade_0,\\\n",
    "    num_orders, design_completion_0, ae_exp_0, N_AE, ce_exp_0, N_cons, mod_0, Design_Maturity_0, proc_exp_0, N_proc, standardization_0, interest_rate_0, startup_0):\n",
    "    \n",
    "# A function for the average results (averaged over all the reactors built)\n",
    "\n",
    "    OCC_list = []\n",
    "    TCI_list = [] \n",
    "    durations_list = []\n",
    "    \n",
    "    for n_th in range(1, num_orders+1):\n",
    "        results = calculate_final_result(reactor_type, n_th, f_22, f_2321, land_cost_per_acre_0, RB_grade_0, BOP_grade_0,\\\n",
    "        num_orders, design_completion_0, ae_exp_0, N_AE, ce_exp_0, N_cons, mod_0, Design_Maturity_0, proc_exp_0, N_proc, standardization_0, interest_rate_0, startup_0) \n",
    "        \n",
    "        OCC_result = results[1] # The ITC_reduced OCC (levelized)\n",
    "        TCI_result = results[2] # The ITC_reduced TCI(levelized)\n",
    "        duration_result = results[3] # cons duration\n",
    "        \n",
    "        OCC_list.append(OCC_result)\n",
    "        TCI_list.append( TCI_result )\n",
    "        durations_list.append( duration_result  )\n",
    "    last_plant_OCC = OCC_list[-1]\n",
    "    first_plant_OCC = OCC_list[0]\n",
    "    avg_OCC = np.mean(OCC_list)    \n",
    "    \n",
    "    last_plant_TCI = TCI_list[-1]\n",
    "    first_plant_TCI = TCI_list[0]\n",
    "    avg_TCI = np.mean(TCI_list)\n",
    "    \n",
    "    avg_dur = np.mean(durations_list)\n",
    "    \n",
    "    return last_plant_OCC , first_plant_OCC, avg_OCC,  last_plant_TCI , first_plant_TCI, avg_TCI, avg_dur "
   ]
  },
  {
   "cell_type": "markdown",
   "id": "3c0d5583",
   "metadata": {},
   "source": [
    "### Scenarios\n",
    "These scenarios correspond to the scenarios in the cost reduction report: https://inldigitallibrary.inl.gov/sites/sti/sti/Sort_109810.pdf"
   ]
  },
  {
   "cell_type": "code",
   "execution_count": 4,
   "id": "6a4a23ef",
   "metadata": {},
   "outputs": [
    {
     "ename": "UnboundLocalError",
     "evalue": "cannot access local variable 'task_length_multiplier' where it is not associated with a value",
     "output_type": "error",
     "traceback": [
      "\u001b[0;31m---------------------------------------------------------------------------\u001b[0m",
      "\u001b[0;31mUnboundLocalError\u001b[0m                         Traceback (most recent call last)",
      "Cell \u001b[0;32mIn[4], line 57\u001b[0m\n\u001b[1;32m     54\u001b[0m     ITC_0 \u001b[38;5;241m=\u001b[39m \u001b[38;5;241m0.4\u001b[39m\n\u001b[1;32m     55\u001b[0m     n_ITC \u001b[38;5;241m=\u001b[39m \u001b[38;5;241m4\u001b[39m \n\u001b[0;32m---> 57\u001b[0m avg_results \u001b[38;5;241m=\u001b[39m \u001b[43mcalculate_final_result_avg\u001b[49m\u001b[43m(\u001b[49m\u001b[43mreactor_type\u001b[49m\u001b[43m,\u001b[49m\u001b[43m \u001b[49m\u001b[43mf_22\u001b[49m\u001b[43m,\u001b[49m\u001b[43m \u001b[49m\u001b[43mf_2321\u001b[49m\u001b[43m,\u001b[49m\u001b[43m \u001b[49m\u001b[43mland_cost_per_acre_0\u001b[49m\u001b[43m,\u001b[49m\u001b[43m \u001b[49m\u001b[43mRB_grade_0\u001b[49m\u001b[43m,\u001b[49m\u001b[43m \u001b[49m\u001b[43mBOP_grade_0\u001b[49m\u001b[43m,\u001b[49m\u001b[43m\\\u001b[49m\n\u001b[1;32m     58\u001b[0m \u001b[43m\u001b[49m\u001b[43mnum_orders\u001b[49m\u001b[43m,\u001b[49m\u001b[43m \u001b[49m\u001b[43mdesign_completion_0\u001b[49m\u001b[43m,\u001b[49m\u001b[43m \u001b[49m\u001b[43mae_exp_0\u001b[49m\u001b[43m,\u001b[49m\u001b[43m \u001b[49m\u001b[43mN_AE\u001b[49m\u001b[43m,\u001b[49m\u001b[43m \u001b[49m\u001b[43mce_exp_0\u001b[49m\u001b[43m,\u001b[49m\u001b[43m \u001b[49m\u001b[43mN_cons\u001b[49m\u001b[43m,\u001b[49m\u001b[43m \u001b[49m\u001b[43mmod_0\u001b[49m\u001b[43m,\u001b[49m\u001b[43m \u001b[49m\u001b[43mDesign_Maturity_0\u001b[49m\u001b[43m,\u001b[49m\u001b[43m \u001b[49m\u001b[43mproc_exp_0\u001b[49m\u001b[43m,\u001b[49m\u001b[43m \u001b[49m\u001b[43mN_proc\u001b[49m\u001b[43m,\u001b[49m\u001b[43m \u001b[49m\u001b[43mstandardization_0\u001b[49m\u001b[43m,\u001b[49m\u001b[43m \u001b[49m\u001b[43minterest_rate_0\u001b[49m\u001b[43m,\u001b[49m\u001b[43m \u001b[49m\u001b[43mstartup_0\u001b[49m\u001b[43m)\u001b[49m          \n",
      "Cell \u001b[0;32mIn[3], line 11\u001b[0m, in \u001b[0;36mcalculate_final_result_avg\u001b[0;34m(reactor_type, f_22, f_2321, land_cost_per_acre_0, RB_grade_0, BOP_grade_0, num_orders, design_completion_0, ae_exp_0, N_AE, ce_exp_0, N_cons, mod_0, Design_Maturity_0, proc_exp_0, N_proc, standardization_0, interest_rate_0, startup_0)\u001b[0m\n\u001b[1;32m      8\u001b[0m durations_list \u001b[38;5;241m=\u001b[39m []\n\u001b[1;32m     10\u001b[0m \u001b[38;5;28;01mfor\u001b[39;00m n_th \u001b[38;5;129;01min\u001b[39;00m \u001b[38;5;28mrange\u001b[39m(\u001b[38;5;241m1\u001b[39m, num_orders\u001b[38;5;241m+\u001b[39m\u001b[38;5;241m1\u001b[39m):\n\u001b[0;32m---> 11\u001b[0m     results \u001b[38;5;241m=\u001b[39m \u001b[43mcalculate_final_result\u001b[49m\u001b[43m(\u001b[49m\u001b[43mreactor_type\u001b[49m\u001b[43m,\u001b[49m\u001b[43m \u001b[49m\u001b[43mn_th\u001b[49m\u001b[43m,\u001b[49m\u001b[43m \u001b[49m\u001b[43mf_22\u001b[49m\u001b[43m,\u001b[49m\u001b[43m \u001b[49m\u001b[43mf_2321\u001b[49m\u001b[43m,\u001b[49m\u001b[43m \u001b[49m\u001b[43mland_cost_per_acre_0\u001b[49m\u001b[43m,\u001b[49m\u001b[43m \u001b[49m\u001b[43mRB_grade_0\u001b[49m\u001b[43m,\u001b[49m\u001b[43m \u001b[49m\u001b[43mBOP_grade_0\u001b[49m\u001b[43m,\u001b[49m\u001b[43m\\\u001b[49m\n\u001b[1;32m     12\u001b[0m \u001b[43m    \u001b[49m\u001b[43mnum_orders\u001b[49m\u001b[43m,\u001b[49m\u001b[43m \u001b[49m\u001b[43mdesign_completion_0\u001b[49m\u001b[43m,\u001b[49m\u001b[43m \u001b[49m\u001b[43mae_exp_0\u001b[49m\u001b[43m,\u001b[49m\u001b[43m \u001b[49m\u001b[43mN_AE\u001b[49m\u001b[43m,\u001b[49m\u001b[43m \u001b[49m\u001b[43mce_exp_0\u001b[49m\u001b[43m,\u001b[49m\u001b[43m \u001b[49m\u001b[43mN_cons\u001b[49m\u001b[43m,\u001b[49m\u001b[43m \u001b[49m\u001b[43mmod_0\u001b[49m\u001b[43m,\u001b[49m\u001b[43m \u001b[49m\u001b[43mDesign_Maturity_0\u001b[49m\u001b[43m,\u001b[49m\u001b[43m \u001b[49m\u001b[43mproc_exp_0\u001b[49m\u001b[43m,\u001b[49m\u001b[43m \u001b[49m\u001b[43mN_proc\u001b[49m\u001b[43m,\u001b[49m\u001b[43m \u001b[49m\u001b[43mstandardization_0\u001b[49m\u001b[43m,\u001b[49m\u001b[43m \u001b[49m\u001b[43minterest_rate_0\u001b[49m\u001b[43m,\u001b[49m\u001b[43m \u001b[49m\u001b[43mstartup_0\u001b[49m\u001b[43m)\u001b[49m \n\u001b[1;32m     14\u001b[0m     OCC_result \u001b[38;5;241m=\u001b[39m results[\u001b[38;5;241m1\u001b[39m] \u001b[38;5;66;03m# The ITC_reduced OCC (levelized)\u001b[39;00m\n\u001b[1;32m     15\u001b[0m     TCI_result \u001b[38;5;241m=\u001b[39m results[\u001b[38;5;241m2\u001b[39m] \u001b[38;5;66;03m# The ITC_reduced TCI(levelized)\u001b[39;00m\n",
      "File \u001b[0;32m/var/folders/fn/9991pz_174vgdscjw2zf2tbxtn5546/T/ipykernel_63785/3212539402.py:6\u001b[0m, in \u001b[0;36mcalculate_final_result\u001b[0;34m(reactor_type, n_th, f_22, f_2321, land_cost_per_acre_0, RB_grade_0, BOP_grade_0, num_orders, design_completion_0, ae_exp_0, N_AE, ce_exp_0, N_cons, mod_0, Design_Maturity_0, proc_exp_0, N_proc, standardization_0, interest_rate_0, startup_0)\u001b[0m\n\u001b[1;32m      4\u001b[0m reactor_data \u001b[38;5;241m=\u001b[39m (reactor_data_read(reactor_type ))[\u001b[38;5;241m0\u001b[39m]\n\u001b[1;32m      5\u001b[0m reactor_power \u001b[38;5;241m=\u001b[39m (reactor_data_read(reactor_type ))[\u001b[38;5;241m1\u001b[39m]\n\u001b[0;32m----> 6\u001b[0m tot_base_cost_results \u001b[38;5;241m=\u001b[39m \u001b[43mcalculate_base_cost\u001b[49m\u001b[43m(\u001b[49m\u001b[43mreactor_type\u001b[49m\u001b[43m,\u001b[49m\u001b[43m \u001b[49m\u001b[43mn_th\u001b[49m\u001b[43m,\u001b[49m\u001b[43m \u001b[49m\u001b[43mf_22\u001b[49m\u001b[43m,\u001b[49m\u001b[43m \u001b[49m\u001b[43mf_2321\u001b[49m\u001b[43m,\u001b[49m\u001b[43m \u001b[49m\u001b[43mland_cost_per_acre_0\u001b[49m\u001b[43m,\u001b[49m\u001b[43m \u001b[49m\u001b[43mRB_grade_0\u001b[49m\u001b[43m,\u001b[49m\u001b[43m \u001b[49m\u001b[43mBOP_grade_0\u001b[49m\u001b[43m,\u001b[49m\u001b[43m \u001b[49m\u001b[43mnum_orders\u001b[49m\u001b[43m,\u001b[49m\u001b[43m \u001b[49m\u001b[43mdesign_completion_0\u001b[49m\u001b[43m,\u001b[49m\u001b[43m \u001b[49m\u001b[43mae_exp_0\u001b[49m\u001b[43m,\u001b[49m\u001b[43m \u001b[49m\u001b[43mN_AE\u001b[49m\u001b[43m,\u001b[49m\u001b[43m \u001b[49m\u001b[43mce_exp_0\u001b[49m\u001b[43m,\u001b[49m\u001b[43m \u001b[49m\u001b[43mN_cons\u001b[49m\u001b[43m,\u001b[49m\u001b[43m \u001b[49m\u001b[43mmod_0\u001b[49m\u001b[43m,\u001b[49m\u001b[43m \u001b[49m\u001b[43mDesign_Maturity_0\u001b[49m\u001b[43m,\u001b[49m\u001b[43m \u001b[49m\u001b[43mproc_exp_0\u001b[49m\u001b[43m,\u001b[49m\u001b[43m \u001b[49m\u001b[43mN_proc\u001b[49m\u001b[43m,\u001b[49m\u001b[43m \u001b[49m\u001b[43mstandardization_0\u001b[49m\u001b[43m)\u001b[49m\n\u001b[1;32m      7\u001b[0m tot_base_cost \u001b[38;5;241m=\u001b[39m tot_base_cost_results[\u001b[38;5;241m0\u001b[39m]\n\u001b[1;32m      8\u001b[0m final_construction_duration \u001b[38;5;241m=\u001b[39m tot_base_cost_results[\u001b[38;5;241m1\u001b[39m]\n",
      "File \u001b[0;32m/var/folders/fn/9991pz_174vgdscjw2zf2tbxtn5546/T/ipykernel_63785/896935451.py:7\u001b[0m, in \u001b[0;36mcalculate_base_cost\u001b[0;34m(reactor_type, n_th, f_22, f_2321, land_cost_per_acre_0, RB_grade_0, BOP_grade_0, num_orders, design_completion_0, ae_exp_0, N_AE, ce_exp_0, N_cons, mod_0, Design_Maturity_0, proc_exp_0, N_proc, standardization_0)\u001b[0m\n\u001b[1;32m      4\u001b[0m direct_cost_updated \u001b[38;5;241m=\u001b[39m update_direct_cost(reactor_type, n_th, f_22, f_2321, land_cost_per_acre_0, RB_grade_0, BOP_grade_0, num_orders, design_completion_0, ae_exp_0, N_AE, ce_exp_0, N_cons)\n\u001b[1;32m      6\u001b[0m act_con_duration \u001b[38;5;241m=\u001b[39m update_cons_dur(reactor_data, direct_cost_updated , mod_0)\n\u001b[0;32m----> 7\u001b[0m cons_duration_plus_delay \u001b[38;5;241m=\u001b[39m \u001b[43mact_cons_duration_plus_delay\u001b[49m\u001b[43m(\u001b[49m\u001b[43mreactor_type\u001b[49m\u001b[43m,\u001b[49m\u001b[43m \u001b[49m\u001b[43mn_th\u001b[49m\u001b[43m,\u001b[49m\u001b[43m \u001b[49m\u001b[43mDesign_Maturity_0\u001b[49m\u001b[43m,\u001b[49m\u001b[43m \u001b[49m\u001b[43mproc_exp_0\u001b[49m\u001b[43m,\u001b[49m\u001b[43m \u001b[49m\u001b[43mN_proc\u001b[49m\u001b[43m,\u001b[49m\u001b[43m \u001b[49m\u001b[43mact_con_duration\u001b[49m\u001b[43m)\u001b[49m\n\u001b[1;32m      8\u001b[0m final_con_duration \u001b[38;5;241m=\u001b[39m duration_learning_effect(n_th, standardization_0, cons_duration_plus_delay)\n\u001b[1;32m     10\u001b[0m direct_cost_updated_plus_learning \u001b[38;5;241m=\u001b[39m learning_effect(direct_cost_updated , n_th, standardization_0, reactor_power)\n",
      "File \u001b[0;32m/var/folders/fn/9991pz_174vgdscjw2zf2tbxtn5546/T/ipykernel_63785/1160249579.py:25\u001b[0m, in \u001b[0;36mact_cons_duration_plus_delay\u001b[0;34m(reactor_type, n_th, Design_Maturity_0, proc_exp_0, N_proc, cons_duration_no_delay)\u001b[0m\n\u001b[1;32m     22\u001b[0m     task_length_multiplier \u001b[38;5;241m=\u001b[39m \u001b[38;5;241m100\u001b[39m\u001b[38;5;241m/\u001b[39m\u001b[38;5;241m64\u001b[39m\n\u001b[1;32m     23\u001b[0m     ref_construction_duration \u001b[38;5;241m=\u001b[39m \u001b[38;5;241m100\u001b[39m\n\u001b[0;32m---> 25\u001b[0m B_21 \u001b[38;5;241m=\u001b[39m  \u001b[38;5;241m42.1\u001b[39m \u001b[38;5;241m*\u001b[39m \u001b[43mtask_length_multiplier\u001b[49m \u001b[38;5;66;03m# months \u001b[39;00m\n\u001b[1;32m     26\u001b[0m B_22 \u001b[38;5;241m=\u001b[39m \u001b[38;5;241m60.2\u001b[39m \u001b[38;5;241m*\u001b[39m task_length_multiplier\n\u001b[1;32m     27\u001b[0m B_23 \u001b[38;5;241m=\u001b[39m \u001b[38;5;241m14.8\u001b[39m \u001b[38;5;241m*\u001b[39m task_length_multiplier\n",
      "\u001b[0;31mUnboundLocalError\u001b[0m: cannot access local variable 'task_length_multiplier' where it is not associated with a value"
     ]
    }
   ],
   "source": [
    "reactor_type = \"Concept A\"\n",
    "\n",
    "# scenario independent params\n",
    "mod_0 = \"modularized\"\n",
    "BOP_grade_0 = \"non_nuclear\"\n",
    "RB_grade_0 = \"nuclear\"\n",
    "\n",
    "land_cost_per_acre_0 =  22000 # dollars/acre\n",
    "startup_0 = 16 \n",
    "interest_rate_0 = 0.06\n",
    "\n",
    "# numb er of projects for full efficiency of procurement, A/E, Construction\n",
    "N_proc = 3\n",
    "N_AE  = 4\n",
    "N_cons =5\n",
    "\n",
    "# factory building cost (associated with accounts 22 and 232.1)\n",
    "f_22   = 250000000\n",
    "f_2321 = 150000000\n",
    "\n",
    "\n",
    "for scenario in [1, 2, 3 ]:\n",
    "    if scenario == 1:\n",
    "        num_orders = 13\n",
    "        design_completion_0 = 0.8 # 1 means 100%\n",
    "        Design_Maturity_0 = 1\n",
    "        proc_exp_0= 0.5 # 2 means procurement experts. This is ideal. \n",
    "        ae_exp_0 = 0.5\n",
    "        ce_exp_0 = 1\n",
    "        standardization_0 = 0.8 # 0.7 corresponds to 70% standardization for PWRs\n",
    "        ITC_0 = 0 \n",
    "        n_ITC = 0\n",
    "\n",
    "    elif scenario == 2:\n",
    "        num_orders = 18\n",
    "        design_completion_0 = 0.6 # 1 means 100%\n",
    "        Design_Maturity_0 = 0\n",
    "        proc_exp_0= 0 # 2 means procurement experts. This is ideal. \n",
    "        ae_exp_0 = 0\n",
    "        ce_exp_0 = 1\n",
    "        standardization_0 = 0.7 # 0.7 corresponds to 70% standardization for PWRs\n",
    "\n",
    "        ITC_0 = 0 \n",
    "        n_ITC = 0        \n",
    "        \n",
    "    elif scenario == 3:\n",
    "        num_orders = 13\n",
    "        design_completion_0 = 0.8 # 1 means 100%\n",
    "        Design_Maturity_0 = 1\n",
    "        proc_exp_0= 0.5 # 2 means procurement experts. This is ideal. \n",
    "        ae_exp_0 = 0.5\n",
    "        ce_exp_0 = 1\n",
    "        standardization_0 = 0.8 # 0.7 corresponds to 70% standardization for PWRs\n",
    "        ITC_0 = 0.4\n",
    "        n_ITC = 4 \n",
    "    \n",
    "    avg_results = calculate_final_result_avg(reactor_type, f_22, f_2321, land_cost_per_acre_0, RB_grade_0, BOP_grade_0,\\\n",
    "    num_orders, design_completion_0, ae_exp_0, N_AE, ce_exp_0, N_cons, mod_0, Design_Maturity_0, proc_exp_0, N_proc, standardization_0, interest_rate_0, startup_0)          "
   ]
  },
  {
   "cell_type": "code",
   "execution_count": null,
   "id": "8187e003",
   "metadata": {},
   "outputs": [],
   "source": [
    "# calculate_final_result(reactor_type, n_th, f_22, f_2321, land_cost_per_acre_0, RB_grade_0, BOP_grade_0,\\\n",
    "#     num_orders, design_completion_0, ae_exp_0, N_AE, ce_exp_0, N_cons, mod_0, Design_Maturity_0, proc_exp_0, N_proc, standardization_0, interest_rate_0, startup_0)"
   ]
  }
 ],
 "metadata": {
  "kernelspec": {
   "display_name": "Python 3 (ipykernel)",
   "language": "python",
   "name": "python3"
  },
  "language_info": {
   "codemirror_mode": {
    "name": "ipython",
    "version": 3
   },
   "file_extension": ".py",
   "mimetype": "text/x-python",
   "name": "python",
   "nbconvert_exporter": "python",
   "pygments_lexer": "ipython3",
   "version": "3.11.8"
  }
 },
 "nbformat": 4,
 "nbformat_minor": 5
}
